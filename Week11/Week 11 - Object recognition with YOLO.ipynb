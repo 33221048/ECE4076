{
 "cells": [
  {
   "attachments": {},
   "cell_type": "markdown",
   "metadata": {},
   "source": []
  },
  {
   "cell_type": "code",
   "execution_count": null,
   "metadata": {},
   "outputs": [],
   "source": [
    "import torch\n",
    "\n",
    "import numpy as np\n",
    "import matplotlib.pyplot as plt\n",
    "from PIL import Image\n",
    "import cv2\n",
    "\n",
    "import time\n",
    "import requests"
   ]
  },
  {
   "cell_type": "code",
   "execution_count": null,
   "metadata": {},
   "outputs": [],
   "source": [
    "# !pip install super_gradients #uncomment to install"
   ]
  },
  {
   "cell_type": "code",
   "execution_count": null,
   "metadata": {},
   "outputs": [],
   "source": [
    "from super_gradients.training import models\n",
    "\n",
    "yolo_model = models.get(\"yolo_nas_m\", pretrained_weights=\"coco\")\n",
    "\n",
    "device = 'cuda' if torch.cuda.is_available() else \"cpu\"\n",
    "\n",
    "yolo_model.to(device)"
   ]
  },
  {
   "cell_type": "code",
   "execution_count": null,
   "metadata": {},
   "outputs": [],
   "source": [
    "# !pip install torchinfo #uncomment to install\n",
    "\n",
    "from torchinfo import summary\n",
    "\n",
    "summary(model=yolo_model, \n",
    "        input_size=(16, 3, 640, 640),\n",
    "        col_names=[\"input_size\", \"output_size\", \"num_params\", \"trainable\"],\n",
    "        col_width=20,\n",
    "        row_settings=[\"var_names\"]\n",
    ")"
   ]
  },
  {
   "cell_type": "code",
   "execution_count": null,
   "metadata": {},
   "outputs": [],
   "source": [
    "# url = \"https://previews.123rf.com/images/freeograph/freeograph2011/freeograph201100150/158301822-group-of-friends-gathering-around-table-at-home.jpg\"\n",
    "\n",
    "url = \"http://cdn.cnn.com/cnnnext/dam/assets/200130092551-02-market-street-san-francisco-car-free-now.jpg\"\n",
    "# url = \"https://m.media-amazon.com/images/I/71xybHPToQL._AC_SL1500_.jpg\"\n",
    "\n",
    "# url = \"https://www.monash.edu/__data/assets/image/0006/959496/clayton-campus-green-chemical-futures-building-exterior2017.jpg\"\n",
    "\n",
    "yolo_model.predict(url, conf=0.25).show()\n",
    "\n"
   ]
  },
  {
   "cell_type": "code",
   "execution_count": null,
   "metadata": {},
   "outputs": [],
   "source": []
  },
  {
   "cell_type": "code",
   "execution_count": 6,
   "metadata": {},
   "outputs": [
    {
     "ename": "KeyboardInterrupt",
     "evalue": "",
     "output_type": "error",
     "traceback": [
      "\u001b[0;31m---------------------------------------------------------------------------\u001b[0m",
      "\u001b[0;31mKeyboardInterrupt\u001b[0m                         Traceback (most recent call last)",
      "Cell \u001b[0;32mIn [6], line 1\u001b[0m\n\u001b[0;32m----> 1\u001b[0m \u001b[43myolo_model\u001b[49m\u001b[38;5;241;43m.\u001b[39;49m\u001b[43mpredict_webcam\u001b[49m\u001b[43m(\u001b[49m\u001b[43m)\u001b[49m\n",
      "File \u001b[0;32m~/.local/lib/python3.8/site-packages/super_gradients/training/models/detection_models/customizable_detector.py:339\u001b[0m, in \u001b[0;36mCustomizableDetector.predict_webcam\u001b[0;34m(self, iou, conf, fuse_model, skip_image_resizing, nms_top_k, max_predictions, multi_label_per_box, class_agnostic_nms)\u001b[0m\n\u001b[1;32m    314\u001b[0m \u001b[38;5;124;03m\"\"\"Predict using webcam.\u001b[39;00m\n\u001b[1;32m    315\u001b[0m \n\u001b[1;32m    316\u001b[0m \u001b[38;5;124;03m:param iou:                 (Optional) IoU threshold for the nms algorithm. If None, the default value associated to the training is used.\u001b[39;00m\n\u001b[0;32m   (...)\u001b[0m\n\u001b[1;32m    327\u001b[0m \u001b[38;5;124;03m                            If False NMS is performed separately for each class.\u001b[39;00m\n\u001b[1;32m    328\u001b[0m \u001b[38;5;124;03m\"\"\"\u001b[39;00m\n\u001b[1;32m    329\u001b[0m pipeline \u001b[38;5;241m=\u001b[39m \u001b[38;5;28mself\u001b[39m\u001b[38;5;241m.\u001b[39m_get_pipeline(\n\u001b[1;32m    330\u001b[0m     iou\u001b[38;5;241m=\u001b[39miou,\n\u001b[1;32m    331\u001b[0m     conf\u001b[38;5;241m=\u001b[39mconf,\n\u001b[0;32m   (...)\u001b[0m\n\u001b[1;32m    337\u001b[0m     class_agnostic_nms\u001b[38;5;241m=\u001b[39mclass_agnostic_nms,\n\u001b[1;32m    338\u001b[0m )\n\u001b[0;32m--> 339\u001b[0m \u001b[43mpipeline\u001b[49m\u001b[38;5;241;43m.\u001b[39;49m\u001b[43mpredict_webcam\u001b[49m\u001b[43m(\u001b[49m\u001b[43m)\u001b[49m\n",
      "File \u001b[0;32m~/.local/lib/python3.8/site-packages/super_gradients/training/pipelines/pipelines.py:157\u001b[0m, in \u001b[0;36mPipeline.predict_webcam\u001b[0;34m(self)\u001b[0m\n\u001b[1;32m    154\u001b[0m     \u001b[38;5;28;01mreturn\u001b[39;00m frame_prediction\u001b[38;5;241m.\u001b[39mdraw()\n\u001b[1;32m    156\u001b[0m video_streaming \u001b[38;5;241m=\u001b[39m WebcamStreaming(frame_processing_fn\u001b[38;5;241m=\u001b[39m_draw_predictions, fps_update_frequency\u001b[38;5;241m=\u001b[39m\u001b[38;5;241m1\u001b[39m)\n\u001b[0;32m--> 157\u001b[0m \u001b[43mvideo_streaming\u001b[49m\u001b[38;5;241;43m.\u001b[39;49m\u001b[43mrun\u001b[49m\u001b[43m(\u001b[49m\u001b[43m)\u001b[49m\n",
      "File \u001b[0;32m~/.local/lib/python3.8/site-packages/super_gradients/training/utils/media/stream.py:43\u001b[0m, in \u001b[0;36mWebcamStreaming.run\u001b[0;34m(self)\u001b[0m\n\u001b[1;32m     38\u001b[0m \u001b[38;5;124;03m\"\"\"Start streaming video from the webcam and displaying it in a window.\u001b[39;00m\n\u001b[1;32m     39\u001b[0m \n\u001b[1;32m     40\u001b[0m \u001b[38;5;124;03mPress 'q' to quit the streaming.\u001b[39;00m\n\u001b[1;32m     41\u001b[0m \u001b[38;5;124;03m\"\"\"\u001b[39;00m\n\u001b[1;32m     42\u001b[0m \u001b[38;5;28;01mwhile\u001b[39;00m \u001b[38;5;129;01mnot\u001b[39;00m \u001b[38;5;28mself\u001b[39m\u001b[38;5;241m.\u001b[39m_stop():\n\u001b[0;32m---> 43\u001b[0m     \u001b[38;5;28;43mself\u001b[39;49m\u001b[38;5;241;43m.\u001b[39;49m\u001b[43m_display_single_frame\u001b[49m\u001b[43m(\u001b[49m\u001b[43m)\u001b[49m\n",
      "File \u001b[0;32m~/.local/lib/python3.8/site-packages/super_gradients/training/utils/media/stream.py:54\u001b[0m, in \u001b[0;36mWebcamStreaming._display_single_frame\u001b[0;34m(self)\u001b[0m\n\u001b[1;32m     51\u001b[0m _ret, frame \u001b[38;5;241m=\u001b[39m \u001b[38;5;28mself\u001b[39m\u001b[38;5;241m.\u001b[39mcap\u001b[38;5;241m.\u001b[39mread()\n\u001b[1;32m     53\u001b[0m \u001b[38;5;28;01mif\u001b[39;00m \u001b[38;5;28mself\u001b[39m\u001b[38;5;241m.\u001b[39mframe_processing_fn:\n\u001b[0;32m---> 54\u001b[0m     frame \u001b[38;5;241m=\u001b[39m \u001b[38;5;28;43mself\u001b[39;49m\u001b[38;5;241;43m.\u001b[39;49m\u001b[43mframe_processing_fn\u001b[49m\u001b[43m(\u001b[49m\u001b[43mframe\u001b[49m\u001b[43m)\u001b[49m\n\u001b[1;32m     56\u001b[0m _write_fps_to_frame(frame, \u001b[38;5;28mself\u001b[39m\u001b[38;5;241m.\u001b[39mfps)\n\u001b[1;32m     57\u001b[0m cv2\u001b[38;5;241m.\u001b[39mimshow(\u001b[38;5;28mself\u001b[39m\u001b[38;5;241m.\u001b[39mwindow_name, frame)\n",
      "File \u001b[0;32m~/.local/lib/python3.8/site-packages/super_gradients/training/pipelines/pipelines.py:153\u001b[0m, in \u001b[0;36mPipeline.predict_webcam.<locals>._draw_predictions\u001b[0;34m(frame)\u001b[0m\n\u001b[1;32m    151\u001b[0m \u001b[38;5;28;01mdef\u001b[39;00m \u001b[38;5;21m_draw_predictions\u001b[39m(frame: np\u001b[38;5;241m.\u001b[39mndarray) \u001b[38;5;241m-\u001b[39m\u001b[38;5;241m>\u001b[39m np\u001b[38;5;241m.\u001b[39mndarray:\n\u001b[1;32m    152\u001b[0m     \u001b[38;5;124;03m\"\"\"Draw the predictions on a single frame from the stream.\"\"\"\u001b[39;00m\n\u001b[0;32m--> 153\u001b[0m     frame_prediction \u001b[38;5;241m=\u001b[39m \u001b[38;5;28;43mnext\u001b[39;49m\u001b[43m(\u001b[49m\u001b[38;5;28;43miter\u001b[39;49m\u001b[43m(\u001b[49m\u001b[38;5;28;43mself\u001b[39;49m\u001b[38;5;241;43m.\u001b[39;49m\u001b[43m_generate_prediction_result\u001b[49m\u001b[43m(\u001b[49m\u001b[43mimages\u001b[49m\u001b[38;5;241;43m=\u001b[39;49m\u001b[43m[\u001b[49m\u001b[43mframe\u001b[49m\u001b[43m]\u001b[49m\u001b[43m)\u001b[49m\u001b[43m)\u001b[49m\u001b[43m)\u001b[49m\n\u001b[1;32m    154\u001b[0m     \u001b[38;5;28;01mreturn\u001b[39;00m frame_prediction\u001b[38;5;241m.\u001b[39mdraw()\n",
      "File \u001b[0;32m~/.local/lib/python3.8/site-packages/super_gradients/training/pipelines/pipelines.py:170\u001b[0m, in \u001b[0;36mPipeline._generate_prediction_result\u001b[0;34m(self, images, batch_size)\u001b[0m\n\u001b[1;32m    160\u001b[0m \u001b[38;5;124;03m\"\"\"Run the pipeline on the images as single batch or through multiple batches.\u001b[39;00m\n\u001b[1;32m    161\u001b[0m \n\u001b[1;32m    162\u001b[0m \u001b[38;5;124;03mNOTE: A core motivation to have this function as a generator is that it can be used in a lazy way (if images is generator itself),\u001b[39;00m\n\u001b[0;32m   (...)\u001b[0m\n\u001b[1;32m    167\u001b[0m \u001b[38;5;124;03m:return:            Iterable of Results object, each containing the results of the prediction and the image.\u001b[39;00m\n\u001b[1;32m    168\u001b[0m \u001b[38;5;124;03m\"\"\"\u001b[39;00m\n\u001b[1;32m    169\u001b[0m \u001b[38;5;28;01mif\u001b[39;00m batch_size \u001b[38;5;129;01mis\u001b[39;00m \u001b[38;5;28;01mNone\u001b[39;00m:\n\u001b[0;32m--> 170\u001b[0m     \u001b[38;5;28;01myield from\u001b[39;00m \u001b[38;5;28mself\u001b[39m\u001b[38;5;241m.\u001b[39m_generate_prediction_result_single_batch(images)\n\u001b[1;32m    171\u001b[0m \u001b[38;5;28;01melse\u001b[39;00m:\n\u001b[1;32m    172\u001b[0m     \u001b[38;5;28;01mfor\u001b[39;00m batch_images \u001b[38;5;129;01min\u001b[39;00m generate_batch(images, batch_size):\n",
      "File \u001b[0;32m~/.local/lib/python3.8/site-packages/super_gradients/training/pipelines/pipelines.py:195\u001b[0m, in \u001b[0;36mPipeline._generate_prediction_result_single_batch\u001b[0;34m(self, images)\u001b[0m\n\u001b[1;32m    193\u001b[0m preprocessed_images, processing_metadatas \u001b[38;5;241m=\u001b[39m [], []\n\u001b[1;32m    194\u001b[0m \u001b[38;5;28;01mfor\u001b[39;00m image \u001b[38;5;129;01min\u001b[39;00m images:\n\u001b[0;32m--> 195\u001b[0m     preprocessed_image, processing_metadata \u001b[38;5;241m=\u001b[39m \u001b[38;5;28;43mself\u001b[39;49m\u001b[38;5;241;43m.\u001b[39;49m\u001b[43mimage_processor\u001b[49m\u001b[38;5;241;43m.\u001b[39;49m\u001b[43mpreprocess_image\u001b[49m\u001b[43m(\u001b[49m\u001b[43mimage\u001b[49m\u001b[38;5;241;43m=\u001b[39;49m\u001b[43mimage\u001b[49m\u001b[38;5;241;43m.\u001b[39;49m\u001b[43mcopy\u001b[49m\u001b[43m(\u001b[49m\u001b[43m)\u001b[49m\u001b[43m)\u001b[49m\n\u001b[1;32m    196\u001b[0m     preprocessed_images\u001b[38;5;241m.\u001b[39mappend(preprocessed_image)\n\u001b[1;32m    197\u001b[0m     processing_metadatas\u001b[38;5;241m.\u001b[39mappend(processing_metadata)\n",
      "File \u001b[0;32m~/.local/lib/python3.8/site-packages/super_gradients/training/processing/processing.py:146\u001b[0m, in \u001b[0;36mComposeProcessing.preprocess_image\u001b[0;34m(self, image)\u001b[0m\n\u001b[1;32m    144\u001b[0m processed_image, metadata_lst \u001b[38;5;241m=\u001b[39m image\u001b[38;5;241m.\u001b[39mcopy(), []\n\u001b[1;32m    145\u001b[0m \u001b[38;5;28;01mfor\u001b[39;00m processing \u001b[38;5;129;01min\u001b[39;00m \u001b[38;5;28mself\u001b[39m\u001b[38;5;241m.\u001b[39mprocessings:\n\u001b[0;32m--> 146\u001b[0m     processed_image, metadata \u001b[38;5;241m=\u001b[39m \u001b[43mprocessing\u001b[49m\u001b[38;5;241;43m.\u001b[39;49m\u001b[43mpreprocess_image\u001b[49m\u001b[43m(\u001b[49m\u001b[43mimage\u001b[49m\u001b[38;5;241;43m=\u001b[39;49m\u001b[43mprocessed_image\u001b[49m\u001b[43m)\u001b[49m\n\u001b[1;32m    147\u001b[0m     metadata_lst\u001b[38;5;241m.\u001b[39mappend(metadata)\n\u001b[1;32m    148\u001b[0m \u001b[38;5;28;01mreturn\u001b[39;00m processed_image, ComposeProcessingMetadata(metadata_lst\u001b[38;5;241m=\u001b[39mmetadata_lst)\n",
      "File \u001b[0;32m~/.local/lib/python3.8/site-packages/super_gradients/training/processing/processing.py:275\u001b[0m, in \u001b[0;36mStandardizeImage.preprocess_image\u001b[0;34m(self, image)\u001b[0m\n\u001b[1;32m    269\u001b[0m \u001b[38;5;28;01mdef\u001b[39;00m \u001b[38;5;21mpreprocess_image\u001b[39m(\u001b[38;5;28mself\u001b[39m, image: np\u001b[38;5;241m.\u001b[39mndarray) \u001b[38;5;241m-\u001b[39m\u001b[38;5;241m>\u001b[39m Tuple[np\u001b[38;5;241m.\u001b[39mndarray, \u001b[38;5;28;01mNone\u001b[39;00m]:\n\u001b[1;32m    270\u001b[0m     \u001b[38;5;124;03m\"\"\"Reverse the channel order of an image.\u001b[39;00m\n\u001b[1;32m    271\u001b[0m \n\u001b[1;32m    272\u001b[0m \u001b[38;5;124;03m    :param image: Image, in (H, W, C) format.\u001b[39;00m\n\u001b[1;32m    273\u001b[0m \u001b[38;5;124;03m    :return:      Image with reversed channel order. (RGB if input was BGR, BGR if input was RGB)\u001b[39;00m\n\u001b[1;32m    274\u001b[0m \u001b[38;5;124;03m    \"\"\"\u001b[39;00m\n\u001b[0;32m--> 275\u001b[0m     processed_image \u001b[38;5;241m=\u001b[39m (\u001b[43mimage\u001b[49m\u001b[43m \u001b[49m\u001b[38;5;241;43m/\u001b[39;49m\u001b[43m \u001b[49m\u001b[38;5;28;43mself\u001b[39;49m\u001b[38;5;241;43m.\u001b[39;49m\u001b[43mmax_value\u001b[49m)\u001b[38;5;241m.\u001b[39mastype(np\u001b[38;5;241m.\u001b[39mfloat32)\n\u001b[1;32m    276\u001b[0m     \u001b[38;5;28;01mreturn\u001b[39;00m processed_image, \u001b[38;5;28;01mNone\u001b[39;00m\n",
      "\u001b[0;31mKeyboardInterrupt\u001b[0m: "
     ]
    }
   ],
   "source": [
    "yolo_model.predict_webcam()\n",
    "\n",
    "\n",
    "\n"
   ]
  }
 ],
 "metadata": {
  "kernelspec": {
   "display_name": "Python 3 (ipykernel)",
   "language": "python",
   "name": "python3"
  },
  "language_info": {
   "codemirror_mode": {
    "name": "ipython",
    "version": 3
   },
   "file_extension": ".py",
   "mimetype": "text/x-python",
   "name": "python",
   "nbconvert_exporter": "python",
   "pygments_lexer": "ipython3",
   "version": "3.8.10"
  }
 },
 "nbformat": 4,
 "nbformat_minor": 2
}
